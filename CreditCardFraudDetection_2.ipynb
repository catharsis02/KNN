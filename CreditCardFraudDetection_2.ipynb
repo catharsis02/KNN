{
 "cells": [
  {
   "cell_type": "code",
   "execution_count": 1,
   "id": "d3e96b57-efc5-47bb-b2d2-ce820f1103e5",
   "metadata": {
    "id": "d3e96b57-efc5-47bb-b2d2-ce820f1103e5"
   },
   "outputs": [],
   "source": [
    "import os\n",
    "import numpy as np\n",
    "import matplotlib.pyplot as plt\n",
    "import pandas as pd\n",
    "import faiss"
   ]
  },
  {
   "cell_type": "code",
   "execution_count": 2,
   "id": "822322cb-d30b-4dee-8439-5a1c5db4f0ff",
   "metadata": {
    "id": "822322cb-d30b-4dee-8439-5a1c5db4f0ff"
   },
   "outputs": [],
   "source": [
    "train_data = pd.read_csv('fraudTrain.csv',index_col=0)\n",
    "# pd.set_option('display.max_columns', None)\n",
    "test_data = pd.read_csv('fraudTest.csv',index_col=0)"
   ]
  },
  {
   "cell_type": "code",
   "execution_count": 3,
   "id": "53da5693-5ad3-43a2-8720-b49171f01a7e",
   "metadata": {
    "id": "53da5693-5ad3-43a2-8720-b49171f01a7e"
   },
   "outputs": [],
   "source": [
    "train_data['trans_date_trans_time']=pd.to_datetime(train_data['trans_date_trans_time'])\n",
    "test_data['trans_date_trans_time']=pd.to_datetime(test_data['trans_date_trans_time'])"
   ]
  },
  {
   "cell_type": "code",
   "execution_count": 4,
   "id": "98622cba-6b9e-4a3e-9aaa-3078b51ded91",
   "metadata": {
    "id": "98622cba-6b9e-4a3e-9aaa-3078b51ded91"
   },
   "outputs": [],
   "source": [
    "train_data['year'] = train_data['trans_date_trans_time'].dt.year\n",
    "train_data['month'] = train_data['trans_date_trans_time'].dt.month\n",
    "train_data['day'] = train_data['trans_date_trans_time'].dt.day\n",
    "train_data['hour'] = train_data['trans_date_trans_time'].dt.hour\n",
    "test_data['year'] = test_data['trans_date_trans_time'].dt.year\n",
    "test_data['month'] = test_data['trans_date_trans_time'].dt.month\n",
    "test_data['day'] = test_data['trans_date_trans_time'].dt.day\n",
    "test_data['hour'] = test_data['trans_date_trans_time'].dt.hour"
   ]
  },
  {
   "cell_type": "code",
   "execution_count": 5,
   "id": "82e844cb-ea70-46c2-83a0-a5a00c1a2767",
   "metadata": {
    "id": "82e844cb-ea70-46c2-83a0-a5a00c1a2767"
   },
   "outputs": [],
   "source": [
    "train_data.drop('trans_date_trans_time',axis=1,inplace=True)\n",
    "test_data.drop('trans_date_trans_time',axis=1,inplace=True)"
   ]
  },
  {
   "cell_type": "code",
   "execution_count": 6,
   "id": "0f297f4c-904f-4417-a123-3b6953669265",
   "metadata": {
    "id": "0f297f4c-904f-4417-a123-3b6953669265"
   },
   "outputs": [],
   "source": [
    "train_data['dob'] = pd.to_datetime(train_data['dob'])\n",
    "test_data['dob'] = pd.to_datetime(test_data['dob'])"
   ]
  },
  {
   "cell_type": "code",
   "execution_count": 7,
   "id": "bb569378-4282-4daf-948b-8cdc3e17a0d7",
   "metadata": {
    "id": "bb569378-4282-4daf-948b-8cdc3e17a0d7"
   },
   "outputs": [],
   "source": [
    "from datetime import date\n",
    "def convert_to_age(dob):\n",
    "    today = date.today()\n",
    "    return today.year - dob.year - ((today.month, today.day) < (dob.month, dob.day))\n",
    "\n",
    "train_data['dob'] = train_data['dob'].apply(convert_to_age)\n",
    "test_data['dob']=test_data['dob'].apply(convert_to_age)"
   ]
  },
  {
   "cell_type": "code",
   "execution_count": 8,
   "id": "c35e70e7-a4a5-4660-9204-9fbc839e4cbe",
   "metadata": {
    "id": "c35e70e7-a4a5-4660-9204-9fbc839e4cbe"
   },
   "outputs": [],
   "source": [
    "train_data.rename(columns={'dob':'age'},inplace=True)\n",
    "columns_to_drop = ['first','last','gender','job']\n",
    "train_data.drop(columns=columns_to_drop,axis=1,inplace=True)\n",
    "\n",
    "test_data.rename(columns={'dob':'age'},inplace=True)\n",
    "columns_to_drop = ['first','last','gender','job']\n",
    "test_data.drop(columns=columns_to_drop,axis=1,inplace=True)"
   ]
  },
  {
   "cell_type": "code",
   "execution_count": 9,
   "id": "1db5356f-af0d-4bd3-851a-a4d3e7bcc2e9",
   "metadata": {
    "id": "1db5356f-af0d-4bd3-851a-a4d3e7bcc2e9"
   },
   "outputs": [],
   "source": [
    "columns_to_drop = ['cc_num','trans_num','street','city','state','zip']\n",
    "train_data.drop(columns=columns_to_drop,inplace=True)\n",
    "test_data.drop(columns=columns_to_drop,inplace=True)"
   ]
  },
  {
   "cell_type": "code",
   "execution_count": 10,
   "id": "94c193a2-3055-4000-bedc-2990e99cba63",
   "metadata": {
    "colab": {
     "base_uri": "https://localhost:8080/",
     "height": 669
    },
    "id": "94c193a2-3055-4000-bedc-2990e99cba63",
    "outputId": "62a61b64-0f07-455f-ef01-fcb9aa64926d"
   },
   "outputs": [
    {
     "data": {
      "text/html": [
       "<div>\n",
       "<style scoped>\n",
       "    .dataframe tbody tr th:only-of-type {\n",
       "        vertical-align: middle;\n",
       "    }\n",
       "\n",
       "    .dataframe tbody tr th {\n",
       "        vertical-align: top;\n",
       "    }\n",
       "\n",
       "    .dataframe thead th {\n",
       "        text-align: right;\n",
       "    }\n",
       "</style>\n",
       "<table border=\"1\" class=\"dataframe\">\n",
       "  <thead>\n",
       "    <tr style=\"text-align: right;\">\n",
       "      <th></th>\n",
       "      <th>merchant</th>\n",
       "      <th>category</th>\n",
       "      <th>amt</th>\n",
       "      <th>lat</th>\n",
       "      <th>long</th>\n",
       "      <th>city_pop</th>\n",
       "      <th>age</th>\n",
       "      <th>unix_time</th>\n",
       "      <th>merch_lat</th>\n",
       "      <th>merch_long</th>\n",
       "      <th>is_fraud</th>\n",
       "      <th>year</th>\n",
       "      <th>month</th>\n",
       "      <th>day</th>\n",
       "      <th>hour</th>\n",
       "    </tr>\n",
       "  </thead>\n",
       "  <tbody>\n",
       "    <tr>\n",
       "      <th>0</th>\n",
       "      <td>fraud_Rippin, Kub and Mann</td>\n",
       "      <td>misc_net</td>\n",
       "      <td>4.97</td>\n",
       "      <td>36.0788</td>\n",
       "      <td>-81.1781</td>\n",
       "      <td>3495</td>\n",
       "      <td>37</td>\n",
       "      <td>1325376018</td>\n",
       "      <td>36.011293</td>\n",
       "      <td>-82.048315</td>\n",
       "      <td>0</td>\n",
       "      <td>2019</td>\n",
       "      <td>1</td>\n",
       "      <td>1</td>\n",
       "      <td>0</td>\n",
       "    </tr>\n",
       "    <tr>\n",
       "      <th>1</th>\n",
       "      <td>fraud_Heller, Gutmann and Zieme</td>\n",
       "      <td>grocery_pos</td>\n",
       "      <td>107.23</td>\n",
       "      <td>48.8878</td>\n",
       "      <td>-118.2105</td>\n",
       "      <td>149</td>\n",
       "      <td>46</td>\n",
       "      <td>1325376044</td>\n",
       "      <td>49.159047</td>\n",
       "      <td>-118.186462</td>\n",
       "      <td>0</td>\n",
       "      <td>2019</td>\n",
       "      <td>1</td>\n",
       "      <td>1</td>\n",
       "      <td>0</td>\n",
       "    </tr>\n",
       "    <tr>\n",
       "      <th>2</th>\n",
       "      <td>fraud_Lind-Buckridge</td>\n",
       "      <td>entertainment</td>\n",
       "      <td>220.11</td>\n",
       "      <td>42.1808</td>\n",
       "      <td>-112.2620</td>\n",
       "      <td>4154</td>\n",
       "      <td>63</td>\n",
       "      <td>1325376051</td>\n",
       "      <td>43.150704</td>\n",
       "      <td>-112.154481</td>\n",
       "      <td>0</td>\n",
       "      <td>2019</td>\n",
       "      <td>1</td>\n",
       "      <td>1</td>\n",
       "      <td>0</td>\n",
       "    </tr>\n",
       "    <tr>\n",
       "      <th>3</th>\n",
       "      <td>fraud_Kutch, Hermiston and Farrell</td>\n",
       "      <td>gas_transport</td>\n",
       "      <td>45.00</td>\n",
       "      <td>46.2306</td>\n",
       "      <td>-112.1138</td>\n",
       "      <td>1939</td>\n",
       "      <td>58</td>\n",
       "      <td>1325376076</td>\n",
       "      <td>47.034331</td>\n",
       "      <td>-112.561071</td>\n",
       "      <td>0</td>\n",
       "      <td>2019</td>\n",
       "      <td>1</td>\n",
       "      <td>1</td>\n",
       "      <td>0</td>\n",
       "    </tr>\n",
       "    <tr>\n",
       "      <th>4</th>\n",
       "      <td>fraud_Keeling-Crist</td>\n",
       "      <td>misc_pos</td>\n",
       "      <td>41.96</td>\n",
       "      <td>38.4207</td>\n",
       "      <td>-79.4629</td>\n",
       "      <td>99</td>\n",
       "      <td>39</td>\n",
       "      <td>1325376186</td>\n",
       "      <td>38.674999</td>\n",
       "      <td>-78.632459</td>\n",
       "      <td>0</td>\n",
       "      <td>2019</td>\n",
       "      <td>1</td>\n",
       "      <td>1</td>\n",
       "      <td>0</td>\n",
       "    </tr>\n",
       "    <tr>\n",
       "      <th>...</th>\n",
       "      <td>...</td>\n",
       "      <td>...</td>\n",
       "      <td>...</td>\n",
       "      <td>...</td>\n",
       "      <td>...</td>\n",
       "      <td>...</td>\n",
       "      <td>...</td>\n",
       "      <td>...</td>\n",
       "      <td>...</td>\n",
       "      <td>...</td>\n",
       "      <td>...</td>\n",
       "      <td>...</td>\n",
       "      <td>...</td>\n",
       "      <td>...</td>\n",
       "      <td>...</td>\n",
       "    </tr>\n",
       "    <tr>\n",
       "      <th>1296670</th>\n",
       "      <td>fraud_Reichel Inc</td>\n",
       "      <td>entertainment</td>\n",
       "      <td>15.56</td>\n",
       "      <td>37.7175</td>\n",
       "      <td>-112.4777</td>\n",
       "      <td>258</td>\n",
       "      <td>63</td>\n",
       "      <td>1371816728</td>\n",
       "      <td>36.841266</td>\n",
       "      <td>-111.690765</td>\n",
       "      <td>0</td>\n",
       "      <td>2020</td>\n",
       "      <td>6</td>\n",
       "      <td>21</td>\n",
       "      <td>12</td>\n",
       "    </tr>\n",
       "    <tr>\n",
       "      <th>1296671</th>\n",
       "      <td>fraud_Abernathy and Sons</td>\n",
       "      <td>food_dining</td>\n",
       "      <td>51.70</td>\n",
       "      <td>39.2667</td>\n",
       "      <td>-77.5101</td>\n",
       "      <td>100</td>\n",
       "      <td>45</td>\n",
       "      <td>1371816739</td>\n",
       "      <td>38.906881</td>\n",
       "      <td>-78.246528</td>\n",
       "      <td>0</td>\n",
       "      <td>2020</td>\n",
       "      <td>6</td>\n",
       "      <td>21</td>\n",
       "      <td>12</td>\n",
       "    </tr>\n",
       "    <tr>\n",
       "      <th>1296672</th>\n",
       "      <td>fraud_Stiedemann Ltd</td>\n",
       "      <td>food_dining</td>\n",
       "      <td>105.93</td>\n",
       "      <td>32.9396</td>\n",
       "      <td>-105.8189</td>\n",
       "      <td>899</td>\n",
       "      <td>57</td>\n",
       "      <td>1371816752</td>\n",
       "      <td>33.619513</td>\n",
       "      <td>-105.130529</td>\n",
       "      <td>0</td>\n",
       "      <td>2020</td>\n",
       "      <td>6</td>\n",
       "      <td>21</td>\n",
       "      <td>12</td>\n",
       "    </tr>\n",
       "    <tr>\n",
       "      <th>1296673</th>\n",
       "      <td>fraud_Reinger, Weissnat and Strosin</td>\n",
       "      <td>food_dining</td>\n",
       "      <td>74.90</td>\n",
       "      <td>43.3526</td>\n",
       "      <td>-102.5411</td>\n",
       "      <td>1126</td>\n",
       "      <td>44</td>\n",
       "      <td>1371816816</td>\n",
       "      <td>42.788940</td>\n",
       "      <td>-103.241160</td>\n",
       "      <td>0</td>\n",
       "      <td>2020</td>\n",
       "      <td>6</td>\n",
       "      <td>21</td>\n",
       "      <td>12</td>\n",
       "    </tr>\n",
       "    <tr>\n",
       "      <th>1296674</th>\n",
       "      <td>fraud_Langosh, Wintheiser and Hyatt</td>\n",
       "      <td>food_dining</td>\n",
       "      <td>4.30</td>\n",
       "      <td>45.8433</td>\n",
       "      <td>-113.8748</td>\n",
       "      <td>218</td>\n",
       "      <td>29</td>\n",
       "      <td>1371816817</td>\n",
       "      <td>46.565983</td>\n",
       "      <td>-114.186110</td>\n",
       "      <td>0</td>\n",
       "      <td>2020</td>\n",
       "      <td>6</td>\n",
       "      <td>21</td>\n",
       "      <td>12</td>\n",
       "    </tr>\n",
       "  </tbody>\n",
       "</table>\n",
       "<p>1296675 rows × 15 columns</p>\n",
       "</div>"
      ],
      "text/plain": [
       "                                    merchant       category     amt      lat  \\\n",
       "0                 fraud_Rippin, Kub and Mann       misc_net    4.97  36.0788   \n",
       "1            fraud_Heller, Gutmann and Zieme    grocery_pos  107.23  48.8878   \n",
       "2                       fraud_Lind-Buckridge  entertainment  220.11  42.1808   \n",
       "3         fraud_Kutch, Hermiston and Farrell  gas_transport   45.00  46.2306   \n",
       "4                        fraud_Keeling-Crist       misc_pos   41.96  38.4207   \n",
       "...                                      ...            ...     ...      ...   \n",
       "1296670                    fraud_Reichel Inc  entertainment   15.56  37.7175   \n",
       "1296671             fraud_Abernathy and Sons    food_dining   51.70  39.2667   \n",
       "1296672                 fraud_Stiedemann Ltd    food_dining  105.93  32.9396   \n",
       "1296673  fraud_Reinger, Weissnat and Strosin    food_dining   74.90  43.3526   \n",
       "1296674  fraud_Langosh, Wintheiser and Hyatt    food_dining    4.30  45.8433   \n",
       "\n",
       "             long  city_pop  age   unix_time  merch_lat  merch_long  is_fraud  \\\n",
       "0        -81.1781      3495   37  1325376018  36.011293  -82.048315         0   \n",
       "1       -118.2105       149   46  1325376044  49.159047 -118.186462         0   \n",
       "2       -112.2620      4154   63  1325376051  43.150704 -112.154481         0   \n",
       "3       -112.1138      1939   58  1325376076  47.034331 -112.561071         0   \n",
       "4        -79.4629        99   39  1325376186  38.674999  -78.632459         0   \n",
       "...           ...       ...  ...         ...        ...         ...       ...   \n",
       "1296670 -112.4777       258   63  1371816728  36.841266 -111.690765         0   \n",
       "1296671  -77.5101       100   45  1371816739  38.906881  -78.246528         0   \n",
       "1296672 -105.8189       899   57  1371816752  33.619513 -105.130529         0   \n",
       "1296673 -102.5411      1126   44  1371816816  42.788940 -103.241160         0   \n",
       "1296674 -113.8748       218   29  1371816817  46.565983 -114.186110         0   \n",
       "\n",
       "         year  month  day  hour  \n",
       "0        2019      1    1     0  \n",
       "1        2019      1    1     0  \n",
       "2        2019      1    1     0  \n",
       "3        2019      1    1     0  \n",
       "4        2019      1    1     0  \n",
       "...       ...    ...  ...   ...  \n",
       "1296670  2020      6   21    12  \n",
       "1296671  2020      6   21    12  \n",
       "1296672  2020      6   21    12  \n",
       "1296673  2020      6   21    12  \n",
       "1296674  2020      6   21    12  \n",
       "\n",
       "[1296675 rows x 15 columns]"
      ]
     },
     "execution_count": 10,
     "metadata": {},
     "output_type": "execute_result"
    }
   ],
   "source": [
    "train_data.to_numpy()\n",
    "test_data.to_numpy()\n",
    "train_data"
   ]
  },
  {
   "cell_type": "code",
   "execution_count": 11,
   "id": "BaYWod93rbPH",
   "metadata": {
    "id": "BaYWod93rbPH"
   },
   "outputs": [],
   "source": [
    "X_train = train_data.drop(columns='is_fraud')\n",
    "y_train = train_data['is_fraud']\n",
    "X_test = test_data.drop(columns='is_fraud')\n",
    "y_test = test_data['is_fraud']"
   ]
  },
  {
   "cell_type": "code",
   "execution_count": 12,
   "id": "b7rgqFGtr-9h",
   "metadata": {
    "id": "b7rgqFGtr-9h"
   },
   "outputs": [],
   "source": [
    "numerical_cols =  X_train.select_dtypes(include=[np.number]).columns.tolist()\n",
    "categorical_cols = X_train.select_dtypes(include=['object']).columns.tolist()"
   ]
  },
  {
   "cell_type": "code",
   "execution_count": 13,
   "id": "ra5d0IkYr-60",
   "metadata": {
    "id": "ra5d0IkYr-60"
   },
   "outputs": [],
   "source": [
    "from sklearn.preprocessing import StandardScaler\n",
    "scaler = StandardScaler()\n",
    "X_train[numerical_cols] = scaler.fit_transform(X_train[numerical_cols])\n",
    "X_test[numerical_cols] = scaler.transform(X_test[numerical_cols])"
   ]
  },
  {
   "cell_type": "code",
   "execution_count": 1,
   "id": "fM2NJmT9r-3f",
   "metadata": {
    "id": "fM2NJmT9r-3f"
   },
   "outputs": [
    {
     "ename": "NameError",
     "evalue": "name 'X_train' is not defined",
     "output_type": "error",
     "traceback": [
      "\u001b[31m---------------------------------------------------------------------------\u001b[39m",
      "\u001b[31mNameError\u001b[39m                                 Traceback (most recent call last)",
      "\u001b[36mCell\u001b[39m\u001b[36m \u001b[39m\u001b[32mIn[1]\u001b[39m\u001b[32m, line 4\u001b[39m\n\u001b[32m      2\u001b[39m \u001b[38;5;28;01mfrom\u001b[39;00m\u001b[38;5;250m \u001b[39m\u001b[34;01msklearn\u001b[39;00m\u001b[34;01m.\u001b[39;00m\u001b[34;01mpreprocessing\u001b[39;00m\u001b[38;5;250m \u001b[39m\u001b[38;5;28;01mimport\u001b[39;00m OneHotEncoder\n\u001b[32m      3\u001b[39m ct = ColumnTransformer(transformers=[(\u001b[33m'\u001b[39m\u001b[33mencoder\u001b[39m\u001b[33m'\u001b[39m, OneHotEncoder(sparse_output=\u001b[38;5;28;01mFalse\u001b[39;00m), [\u001b[32m0\u001b[39m, \u001b[32m1\u001b[39m])], remainder=\u001b[33m'\u001b[39m\u001b[33mpassthrough\u001b[39m\u001b[33m'\u001b[39m)\n\u001b[32m----> \u001b[39m\u001b[32m4\u001b[39m X_train_encoded = ct.fit_transform(\u001b[43mX_train\u001b[49m[[\u001b[33m'\u001b[39m\u001b[33mmerchant\u001b[39m\u001b[33m'\u001b[39m, \u001b[33m'\u001b[39m\u001b[33mcategory\u001b[39m\u001b[33m'\u001b[39m]])\n",
      "\u001b[31mNameError\u001b[39m: name 'X_train' is not defined"
     ]
    }
   ],
   "source": [
    "from sklearn.compose import ColumnTransformer\n",
    "from sklearn.preprocessing import OneHotEncoder\n",
    "ct = ColumnTransformer(transformers=[('encoder', OneHotEncoder(sparse_output=False), [0, 1])], remainder='passthrough')\n",
    "X_train_encoded = ct.fit_transform(X_train[['merchant', 'category']])"
   ]
  },
  {
   "cell_type": "code",
   "execution_count": null,
   "id": "EljfBWlHr-ve",
   "metadata": {
    "id": "EljfBWlHr-ve"
   },
   "outputs": [],
   "source": [
    "X_test_encoded = ct.transform(X_test[['merchant', 'category']])"
   ]
  },
  {
   "cell_type": "code",
   "execution_count": null,
   "id": "Kah7bUwzr-ye",
   "metadata": {
    "id": "Kah7bUwzr-ye"
   },
   "outputs": [],
   "source": [
    "encoded_X_train = pd.DataFrame(X_train_encoded, columns=ct.get_feature_names_out(), index=X_train.index).to_numpy()\n",
    "encoded_X_test = pd.DataFrame(X_test_encoded, columns=ct.get_feature_names_out(), index=X_test.index).to_numpy()"
   ]
  },
  {
   "cell_type": "code",
   "execution_count": null,
   "id": "7c9afe5d-34ee-494f-b60f-0f02f071e259",
   "metadata": {},
   "outputs": [],
   "source": [
    "X_train = X_train.drop(columns=['merchant', 'category'])\n",
    "X_test = X_test.drop(columns=['merchant', 'category'])\n",
    "X_train = np.hstack((X_train, encoded_X_train))\n",
    "X_test = np.hstack((X_test, encoded_X_test))"
   ]
  },
  {
   "cell_type": "code",
   "execution_count": null,
   "id": "81fcd745-c3e1-4ea8-9210-b9a5229e7ce7",
   "metadata": {},
   "outputs": [],
   "source": [
    "# filename = 'X_train.dat'\n",
    "# X_train_memmap = np.memmap(filename, dtype=np.float16, mode='w+', shape=(1296675, 719))\n",
    "# X_train_memmap[:] = X_train[:]  # Save data to disk\n",
    "# X_train_memmap.flush()  # Write changes to disk\n"
   ]
  },
  {
   "cell_type": "code",
   "execution_count": null,
   "id": "ef72eca3-a935-428e-8226-13c3b1be3d2b",
   "metadata": {},
   "outputs": [],
   "source": [
    "# import numpy as np\n",
    "# import faiss\n",
    "# import os\n",
    "\n",
    "# # Define index file path\n",
    "# index_path = \"faiss_index.idx\"\n",
    "\n",
    "# # Number of clusters (tune this based on dataset size)\n",
    "# nlist = 100  \n",
    "\n",
    "# if not os.path.exists(index_path):  # Check if index already exists\n",
    "#     print(\"Creating and saving FAISS index...\")\n",
    "\n",
    "#     # Create FAISS index with clustering\n",
    "#     quantizer = faiss.IndexFlatL2(X_train.shape[1])  # Base index\n",
    "#     index = faiss.IndexIVFFlat(quantizer, X_train.shape[1], nlist, faiss.METRIC_L2)\n",
    "\n",
    "#     # Convert X_train to float32 and train index\n",
    "#     X_train_fp32 = X_train.astype(np.float32)\n",
    "#     index.train(X_train_fp32)  # Train clustering structure\n",
    "#     index.add(X_train_fp32)  # Add training data\n",
    "\n",
    "#     # Save index to disk\n",
    "#     faiss.write_index(index, index_path)\n",
    "# else:\n",
    "#     print(\"Loading FAISS index from disk...\")\n",
    "#     index = faiss.read_index(index_path)  # Load index from disk\n",
    "\n",
    "# # Set number of clusters to search for better speed-memory tradeoff\n",
    "# index.nprobe = 10  \n",
    "\n",
    "# # Reduce X_test batch size to prevent memory issues\n",
    "# batch_size = 10000  \n",
    "# y_pred_list = []\n",
    "\n",
    "# for i in range(0, X_test.shape[0], batch_size):\n",
    "#     batch = X_test[i:i + batch_size].astype(np.float32)\n",
    "#     _, y_pred_batch = index.search(batch, k=5)\n",
    "#     y_pred_list.append(y_pred_batch)\n",
    "\n",
    "# y_pred = np.vstack(y_pred_list)  # Combine results"
   ]
  },
  {
   "cell_type": "code",
   "execution_count": null,
   "id": "bb856db0-e981-40c5-b99e-6f8217661752",
   "metadata": {},
   "outputs": [],
   "source": [
    "from sklearn.neighbors import KNeighborsClassifier\n",
    "classifier = KNeighborsClassifier(n_neighbors=5, algorithm='ball_tree', n_jobs=-1)\n",
    "classifier.fit(X_train,y_train)"
   ]
  },
  {
   "cell_type": "code",
   "execution_count": null,
   "id": "23b1ea83-5ed0-4c4b-bd32-8c54d60f3424",
   "metadata": {},
   "outputs": [],
   "source": [
    "X_sample = X_test[:100]\n",
    "y_sample_pred = classifier.predict(X_sample)\n",
    "y_sample_pred"
   ]
  },
  {
   "cell_type": "code",
   "execution_count": null,
   "id": "c9adab77-f4f3-48dd-a35e-3dcdbb97264f",
   "metadata": {},
   "outputs": [],
   "source": [
    "batch_size = 500\n",
    "num_batches = int(np.ceil(len(X_test) / batch_size))\n",
    "y_pred_list = []\n",
    "for i in range(num_batches):\n",
    "    start = i * batch_size\n",
    "    end = min((i + 1) * batch_size, len(X_test))\n",
    "    print(f'Processing Batch {i+1}/{num_batches}')\n",
    "    batch_pred = classifier.predict(X_test[start:end])\n",
    "    y_pred_list.append(batch_pred)\n",
    "y_pred = np.concatenate(y_pred_list)"
   ]
  },
  {
   "cell_type": "code",
   "execution_count": null,
   "id": "39fb6ddf-9fc5-4900-9ca7-71dbf5ba9a91",
   "metadata": {},
   "outputs": [],
   "source": [
    "from sklearn.metrics import confusion_matrix\n",
    "cm = confusion_matrix(y_test,y_pred)\n",
    "cm\n",
    "from sklearn.metrics import accuracy_score\n",
    "ac = accuracy_score(y_test,y_pred)\n",
    "ac"
   ]
  },
  {
   "cell_type": "code",
   "execution_count": null,
   "id": "be3ea7cb-90f2-4878-9a9c-59d3bdec3673",
   "metadata": {},
   "outputs": [],
   "source": []
  }
 ],
 "metadata": {
  "colab": {
   "provenance": []
  },
  "kernelspec": {
   "display_name": "Python 3 (ipykernel)",
   "language": "python",
   "name": "python3"
  },
  "language_info": {
   "codemirror_mode": {
    "name": "ipython",
    "version": 3
   },
   "file_extension": ".py",
   "mimetype": "text/x-python",
   "name": "python",
   "nbconvert_exporter": "python",
   "pygments_lexer": "ipython3",
   "version": "3.12.8"
  }
 },
 "nbformat": 4,
 "nbformat_minor": 5
}
